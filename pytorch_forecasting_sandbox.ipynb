{
 "cells": [
  {
   "cell_type": "code",
   "execution_count": 78,
   "metadata": {
    "collapsed": true
   },
   "outputs": [],
   "source": [
    "import pytorch_lightning as pl\n",
    "from pytorch_lightning.callbacks import EarlyStopping, LearningRateMonitor\n",
    "import pandas as pd\n",
    "from pytorch_forecasting import TimeSeriesDataSet, TemporalFusionTransformer, QuantileLoss, GroupNormalizer\n",
    "from pytorch_lightning.loggers import TensorBoardLogger"
   ]
  },
  {
   "cell_type": "markdown",
   "source": [
    "## Loading Data\n",
    "\n",
    "This snippet will load the CSV and split it with a given ratio. CSV should have a first title\n",
    "row \"timestamp, value\". This is designed to work on synthetics\n"
   ],
   "metadata": {
    "collapsed": false
   }
  },
  {
   "cell_type": "code",
   "execution_count": 79,
   "outputs": [
    {
     "name": "stdout",
     "output_type": "stream",
     "text": [
      "   Unnamed: 0           timestamp      value  minutes_since_start group\n",
      "0           0 2023-01-01 00:00:00  27.224691                    0    m1\n",
      "1           1 2023-01-01 00:01:00  11.310333                    1    m1\n",
      "2           2 2023-01-01 00:02:00  24.404527                    2    m1\n",
      "3           3 2023-01-01 00:03:00  12.728395                    3    m1\n",
      "4           4 2023-01-01 00:04:00   6.555822                    4    m1\n"
     ]
    },
    {
     "data": {
      "text/plain": "       Unnamed: 0           timestamp       value  minutes_since_start group\n18601       18601 2023-01-13 22:01:00  484.619829                18601    m1\n18602       18602 2023-01-13 22:02:00  481.976135                18602    m1\n18603       18603 2023-01-13 22:03:00  504.906423                18603    m1\n18604       18604 2023-01-13 22:04:00  483.724190                18604    m1\n18605       18605 2023-01-13 22:05:00  500.599849                18605    m1\n...           ...                 ...         ...                  ...   ...\n18716       18716 2023-01-13 23:56:00  558.949086                18716    m1\n18717       18717 2023-01-13 23:57:00  552.262681                18717    m1\n18718       18718 2023-01-13 23:58:00  547.339637                18718    m1\n18719       18719 2023-01-13 23:59:00  541.390579                18719    m1\n18720       18720 2023-01-14 00:00:00  217.432036                18720    m1\n\n[120 rows x 5 columns]",
      "text/html": "<div>\n<style scoped>\n    .dataframe tbody tr th:only-of-type {\n        vertical-align: middle;\n    }\n\n    .dataframe tbody tr th {\n        vertical-align: top;\n    }\n\n    .dataframe thead th {\n        text-align: right;\n    }\n</style>\n<table border=\"1\" class=\"dataframe\">\n  <thead>\n    <tr style=\"text-align: right;\">\n      <th></th>\n      <th>Unnamed: 0</th>\n      <th>timestamp</th>\n      <th>value</th>\n      <th>minutes_since_start</th>\n      <th>group</th>\n    </tr>\n  </thead>\n  <tbody>\n    <tr>\n      <th>18601</th>\n      <td>18601</td>\n      <td>2023-01-13 22:01:00</td>\n      <td>484.619829</td>\n      <td>18601</td>\n      <td>m1</td>\n    </tr>\n    <tr>\n      <th>18602</th>\n      <td>18602</td>\n      <td>2023-01-13 22:02:00</td>\n      <td>481.976135</td>\n      <td>18602</td>\n      <td>m1</td>\n    </tr>\n    <tr>\n      <th>18603</th>\n      <td>18603</td>\n      <td>2023-01-13 22:03:00</td>\n      <td>504.906423</td>\n      <td>18603</td>\n      <td>m1</td>\n    </tr>\n    <tr>\n      <th>18604</th>\n      <td>18604</td>\n      <td>2023-01-13 22:04:00</td>\n      <td>483.724190</td>\n      <td>18604</td>\n      <td>m1</td>\n    </tr>\n    <tr>\n      <th>18605</th>\n      <td>18605</td>\n      <td>2023-01-13 22:05:00</td>\n      <td>500.599849</td>\n      <td>18605</td>\n      <td>m1</td>\n    </tr>\n    <tr>\n      <th>...</th>\n      <td>...</td>\n      <td>...</td>\n      <td>...</td>\n      <td>...</td>\n      <td>...</td>\n    </tr>\n    <tr>\n      <th>18716</th>\n      <td>18716</td>\n      <td>2023-01-13 23:56:00</td>\n      <td>558.949086</td>\n      <td>18716</td>\n      <td>m1</td>\n    </tr>\n    <tr>\n      <th>18717</th>\n      <td>18717</td>\n      <td>2023-01-13 23:57:00</td>\n      <td>552.262681</td>\n      <td>18717</td>\n      <td>m1</td>\n    </tr>\n    <tr>\n      <th>18718</th>\n      <td>18718</td>\n      <td>2023-01-13 23:58:00</td>\n      <td>547.339637</td>\n      <td>18718</td>\n      <td>m1</td>\n    </tr>\n    <tr>\n      <th>18719</th>\n      <td>18719</td>\n      <td>2023-01-13 23:59:00</td>\n      <td>541.390579</td>\n      <td>18719</td>\n      <td>m1</td>\n    </tr>\n    <tr>\n      <th>18720</th>\n      <td>18720</td>\n      <td>2023-01-14 00:00:00</td>\n      <td>217.432036</td>\n      <td>18720</td>\n      <td>m1</td>\n    </tr>\n  </tbody>\n</table>\n<p>120 rows × 5 columns</p>\n</div>"
     },
     "execution_count": 79,
     "metadata": {},
     "output_type": "execute_result"
    }
   ],
   "source": [
    "prediction_length = 60 * 2\n",
    "input_df = pd.read_csv('data/synthetic_daily_sin_1.csv')\n",
    "\n",
    "\n",
    "# Prep data\n",
    "input_df['minutes_since_start'] = range(0, len(input_df))\n",
    "input_df['group'] = ['m1'] * len(input_df)\n",
    "input_df['timestamp'] = pd.to_datetime(input_df['timestamp'])\n",
    "print(input_df.head())\n",
    "\n",
    "input_df.tail(prediction_length)"
   ],
   "metadata": {
    "collapsed": false
   }
  },
  {
   "cell_type": "code",
   "execution_count": 80,
   "outputs": [],
   "source": [
    " # Let's predict 15th day\n",
    "cutoff_time_index = max(input_df['minutes_since_start']) - prediction_length\n",
    "\n",
    "# Let's look at datset\n",
    "training_ds = TimeSeriesDataSet(\n",
    "    data=input_df[lambda x: x.minutes_since_start <= cutoff_time_index],\n",
    "    time_idx='minutes_since_start',\n",
    "    target='value',\n",
    "    group_ids=['group'],\n",
    "    min_encoder_length=1,\n",
    "    max_encoder_length=60,\n",
    "    min_prediction_length=1,\n",
    "    max_prediction_length=prediction_length,\n",
    "\n",
    "    static_categoricals=[\"group\"],\n",
    "    static_reals=[],\n",
    "    time_varying_known_categoricals=[],\n",
    "    variable_groups={},  # group of categorical variables can be treated as one variable\n",
    "    time_varying_known_reals=[\"minutes_since_start\"],\n",
    "    time_varying_unknown_categoricals=[],\n",
    "    time_varying_unknown_reals=[\n",
    "        \"value\",\n",
    "    ],\n",
    "    target_normalizer=GroupNormalizer(\n",
    "        groups=[\"group\"], transformation=\"softplus\"\n",
    "    ),  # use softplus and normalize by group\n",
    "    add_relative_time_idx=True,\n",
    "    add_target_scales=True,\n",
    "    add_encoder_length=True,\n",
    ")\n",
    "\n",
    "validation_ds = TimeSeriesDataSet.from_dataset(training_ds, input_df, predict=True, stop_randomization=True)\n",
    "\n"
   ],
   "metadata": {
    "collapsed": false
   }
  },
  {
   "cell_type": "code",
   "execution_count": 81,
   "outputs": [
    {
     "name": "stderr",
     "output_type": "stream",
     "text": [
      "GPU available: True (cuda), used: True\n",
      "TPU available: False, using: 0 TPU cores\n",
      "IPU available: False, using: 0 IPUs\n",
      "HPU available: False, using: 0 HPUs\n"
     ]
    }
   ],
   "source": [
    "batch_size = 64\n",
    "num_workers = 0\n",
    "\n",
    "train_dataloader = training_ds.to_dataloader(train=True, batch_size=batch_size, num_workers=num_workers)\n",
    "val_dataloader = validation_ds.to_dataloader(train=False, batch_size=batch_size * 10, num_workers=num_workers)\n",
    "\n",
    "early_stop_callback = EarlyStopping(monitor=\"val_loss\", min_delta=1e-4, patience=10, verbose=False, mode=\"min\")\n",
    "lr_logger = LearningRateMonitor()\n",
    "logger = TensorBoardLogger(\"lightning_logs\")  # log to tensorboard\n",
    "\n",
    "trainer = pl.Trainer(\n",
    "    max_epochs=30,\n",
    "    accelerator='gpu',\n",
    "    devices=[0],\n",
    "    enable_model_summary=True,\n",
    "    gradient_clip_val=0,\n",
    "    callbacks=[lr_logger, early_stop_callback],\n",
    "    logger=logger,\n",
    ")\n",
    "\n"
   ],
   "metadata": {
    "collapsed": false
   }
  },
  {
   "cell_type": "code",
   "execution_count": 82,
   "outputs": [
    {
     "name": "stdout",
     "output_type": "stream",
     "text": [
      "Number of parameters in network: 23.7k\n"
     ]
    },
    {
     "name": "stderr",
     "output_type": "stream",
     "text": [
      "C:\\Users\\mains\\AppData\\Roaming\\JetBrains\\DataSpell2022.3\\projects\\workspace\\venv\\lib\\site-packages\\pytorch_lightning\\utilities\\parsing.py:269: UserWarning: Attribute 'loss' is an instance of `nn.Module` and is already saved during checkpointing. It is recommended to ignore them using `self.save_hyperparameters(ignore=['loss'])`.\n",
      "  rank_zero_warn(\n",
      "C:\\Users\\mains\\AppData\\Roaming\\JetBrains\\DataSpell2022.3\\projects\\workspace\\venv\\lib\\site-packages\\pytorch_lightning\\utilities\\parsing.py:269: UserWarning: Attribute 'logging_metrics' is an instance of `nn.Module` and is already saved during checkpointing. It is recommended to ignore them using `self.save_hyperparameters(ignore=['logging_metrics'])`.\n",
      "  rank_zero_warn(\n"
     ]
    }
   ],
   "source": [
    "optimal_learning_rate = 0.008\n",
    "# create the model\n",
    "tft = TemporalFusionTransformer.from_dataset(\n",
    "    training_ds,\n",
    "    learning_rate=optimal_learning_rate if optimal_learning_rate is not None else 0.03,\n",
    "    hidden_size=16,\n",
    "    attention_head_size=4,\n",
    "    dropout=0.1,\n",
    "    hidden_continuous_size=16,\n",
    "    output_size=7,\n",
    "    loss=QuantileLoss(),\n",
    "    log_interval=2,\n",
    "    reduce_on_plateau_patience=4,\n",
    "    optimizer='adam'\n",
    ")\n",
    "\n",
    "print(f\"Number of parameters in network: {tft.size()/1e3:.1f}k\")\n",
    "\n",
    "\n",
    "\n",
    "# find optimal learning rate (set limit_train_batches to 1.0 and log_interval = -1)\n",
    "if optimal_learning_rate is None:\n",
    "    res = trainer.tuner.lr_find(\n",
    "        tft, train_dataloaders=train_dataloader, val_dataloaders=val_dataloader)\n",
    "\n",
    "    print(f\"suggested learning rate, update optimal_learning_rate with it to avoid reruns: {res.suggestion()}\")"
   ],
   "metadata": {
    "collapsed": false
   }
  },
  {
   "cell_type": "code",
   "execution_count": 83,
   "outputs": [
    {
     "name": "stderr",
     "output_type": "stream",
     "text": [
      "You are using a CUDA device ('NVIDIA GeForce RTX 3060 Ti') that has Tensor Cores. To properly utilize them, you should set `torch.set_float32_matmul_precision('medium' | 'high')` which will trade-off precision for performance. For more details, read https://pytorch.org/docs/stable/generated/torch.set_float32_matmul_precision.html#torch.set_float32_matmul_precision\n",
      "LOCAL_RANK: 0 - CUDA_VISIBLE_DEVICES: [0]\n",
      "\n",
      "   | Name                               | Type                            | Params\n",
      "----------------------------------------------------------------------------------------\n",
      "0  | loss                               | QuantileLoss                    | 0     \n",
      "1  | logging_metrics                    | ModuleList                      | 0     \n",
      "2  | input_embeddings                   | MultiEmbedding                  | 1     \n",
      "3  | prescalers                         | ModuleDict                      | 192   \n",
      "4  | static_variable_selection          | VariableSelectionNetwork        | 3.8 K \n",
      "5  | encoder_variable_selection         | VariableSelectionNetwork        | 3.7 K \n",
      "6  | decoder_variable_selection         | VariableSelectionNetwork        | 2.4 K \n",
      "7  | static_context_variable_selection  | GatedResidualNetwork            | 1.1 K \n",
      "8  | static_context_initial_hidden_lstm | GatedResidualNetwork            | 1.1 K \n",
      "9  | static_context_initial_cell_lstm   | GatedResidualNetwork            | 1.1 K \n",
      "10 | static_context_enrichment          | GatedResidualNetwork            | 1.1 K \n",
      "11 | lstm_encoder                       | LSTM                            | 2.2 K \n",
      "12 | lstm_decoder                       | LSTM                            | 2.2 K \n",
      "13 | post_lstm_gate_encoder             | GatedLinearUnit                 | 544   \n",
      "14 | post_lstm_add_norm_encoder         | AddNorm                         | 32    \n",
      "15 | static_enrichment                  | GatedResidualNetwork            | 1.4 K \n",
      "16 | multihead_attn                     | InterpretableMultiHeadAttention | 676   \n",
      "17 | post_attn_gate_norm                | GateAddNorm                     | 576   \n",
      "18 | pos_wise_ff                        | GatedResidualNetwork            | 1.1 K \n",
      "19 | pre_output_gate_norm               | GateAddNorm                     | 576   \n",
      "20 | output_layer                       | Linear                          | 119   \n",
      "----------------------------------------------------------------------------------------\n",
      "23.7 K    Trainable params\n",
      "0         Non-trainable params\n",
      "23.7 K    Total params\n",
      "0.095     Total estimated model params size (MB)\n"
     ]
    },
    {
     "data": {
      "text/plain": "Sanity Checking: 0it [00:00, ?it/s]",
      "application/vnd.jupyter.widget-view+json": {
       "version_major": 2,
       "version_minor": 0,
       "model_id": "abe8d3b4afd142c8a7e0998ca308a3c0"
      }
     },
     "metadata": {},
     "output_type": "display_data"
    },
    {
     "name": "stderr",
     "output_type": "stream",
     "text": [
      "C:\\Users\\mains\\AppData\\Roaming\\JetBrains\\DataSpell2022.3\\projects\\workspace\\venv\\lib\\site-packages\\pytorch_lightning\\trainer\\connectors\\data_connector.py:224: PossibleUserWarning: The dataloader, val_dataloader 0, does not have many workers which may be a bottleneck. Consider increasing the value of the `num_workers` argument` (try 20 which is the number of cpus on this machine) in the `DataLoader` init to improve performance.\n",
      "  rank_zero_warn(\n",
      "C:\\Users\\mains\\AppData\\Roaming\\JetBrains\\DataSpell2022.3\\projects\\workspace\\venv\\lib\\site-packages\\pytorch_lightning\\trainer\\connectors\\data_connector.py:224: PossibleUserWarning: The dataloader, train_dataloader, does not have many workers which may be a bottleneck. Consider increasing the value of the `num_workers` argument` (try 20 which is the number of cpus on this machine) in the `DataLoader` init to improve performance.\n",
      "  rank_zero_warn(\n"
     ]
    },
    {
     "data": {
      "text/plain": "Training: 0it [00:00, ?it/s]",
      "application/vnd.jupyter.widget-view+json": {
       "version_major": 2,
       "version_minor": 0,
       "model_id": "c1b36dc0eb48489c8c7cbc378163f0d0"
      }
     },
     "metadata": {},
     "output_type": "display_data"
    },
    {
     "data": {
      "text/plain": "Validation: 0it [00:00, ?it/s]",
      "application/vnd.jupyter.widget-view+json": {
       "version_major": 2,
       "version_minor": 0,
       "model_id": "37ef44dd31ac420ca4f858a8de720a5c"
      }
     },
     "metadata": {},
     "output_type": "display_data"
    },
    {
     "data": {
      "text/plain": "Validation: 0it [00:00, ?it/s]",
      "application/vnd.jupyter.widget-view+json": {
       "version_major": 2,
       "version_minor": 0,
       "model_id": "192b159ea5604d0ca8c0f40107af68e0"
      }
     },
     "metadata": {},
     "output_type": "display_data"
    },
    {
     "data": {
      "text/plain": "Validation: 0it [00:00, ?it/s]",
      "application/vnd.jupyter.widget-view+json": {
       "version_major": 2,
       "version_minor": 0,
       "model_id": "f4ada25a5278484caaf8726e6e478d49"
      }
     },
     "metadata": {},
     "output_type": "display_data"
    },
    {
     "data": {
      "text/plain": "Validation: 0it [00:00, ?it/s]",
      "application/vnd.jupyter.widget-view+json": {
       "version_major": 2,
       "version_minor": 0,
       "model_id": "0c851e5a7b0d4030b1864e00eac6817e"
      }
     },
     "metadata": {},
     "output_type": "display_data"
    },
    {
     "data": {
      "text/plain": "Validation: 0it [00:00, ?it/s]",
      "application/vnd.jupyter.widget-view+json": {
       "version_major": 2,
       "version_minor": 0,
       "model_id": "79f8db7a3cc7414aaa0578769b8c07be"
      }
     },
     "metadata": {},
     "output_type": "display_data"
    },
    {
     "data": {
      "text/plain": "Validation: 0it [00:00, ?it/s]",
      "application/vnd.jupyter.widget-view+json": {
       "version_major": 2,
       "version_minor": 0,
       "model_id": "1203d7c049e645378f6ce67275228771"
      }
     },
     "metadata": {},
     "output_type": "display_data"
    },
    {
     "data": {
      "text/plain": "Validation: 0it [00:00, ?it/s]",
      "application/vnd.jupyter.widget-view+json": {
       "version_major": 2,
       "version_minor": 0,
       "model_id": "bb2a662770d84e7ba1dfcd535658e37d"
      }
     },
     "metadata": {},
     "output_type": "display_data"
    },
    {
     "data": {
      "text/plain": "Validation: 0it [00:00, ?it/s]",
      "application/vnd.jupyter.widget-view+json": {
       "version_major": 2,
       "version_minor": 0,
       "model_id": "0c0b8eaa12ab4964a62cf10009efe4b0"
      }
     },
     "metadata": {},
     "output_type": "display_data"
    },
    {
     "data": {
      "text/plain": "Validation: 0it [00:00, ?it/s]",
      "application/vnd.jupyter.widget-view+json": {
       "version_major": 2,
       "version_minor": 0,
       "model_id": "76e9b15457894b8fbfe73c586c429c91"
      }
     },
     "metadata": {},
     "output_type": "display_data"
    },
    {
     "data": {
      "text/plain": "Validation: 0it [00:00, ?it/s]",
      "application/vnd.jupyter.widget-view+json": {
       "version_major": 2,
       "version_minor": 0,
       "model_id": "fc68bc06d73e45988db2e8376366da39"
      }
     },
     "metadata": {},
     "output_type": "display_data"
    },
    {
     "data": {
      "text/plain": "Validation: 0it [00:00, ?it/s]",
      "application/vnd.jupyter.widget-view+json": {
       "version_major": 2,
       "version_minor": 0,
       "model_id": "07b74928ac2140bc8b8dbb791c056c71"
      }
     },
     "metadata": {},
     "output_type": "display_data"
    },
    {
     "data": {
      "text/plain": "Validation: 0it [00:00, ?it/s]",
      "application/vnd.jupyter.widget-view+json": {
       "version_major": 2,
       "version_minor": 0,
       "model_id": "2f7e7c6438284bbdbd843107debbfd96"
      }
     },
     "metadata": {},
     "output_type": "display_data"
    },
    {
     "data": {
      "text/plain": "Validation: 0it [00:00, ?it/s]",
      "application/vnd.jupyter.widget-view+json": {
       "version_major": 2,
       "version_minor": 0,
       "model_id": "34cfecaf802d4b22942eb4a3e7daf08f"
      }
     },
     "metadata": {},
     "output_type": "display_data"
    },
    {
     "data": {
      "text/plain": "Validation: 0it [00:00, ?it/s]",
      "application/vnd.jupyter.widget-view+json": {
       "version_major": 2,
       "version_minor": 0,
       "model_id": "8892a17347184b4484630aa433025c56"
      }
     },
     "metadata": {},
     "output_type": "display_data"
    },
    {
     "data": {
      "text/plain": "Validation: 0it [00:00, ?it/s]",
      "application/vnd.jupyter.widget-view+json": {
       "version_major": 2,
       "version_minor": 0,
       "model_id": "fbcf4885ea4a44a4a121bde33c1c9b8e"
      }
     },
     "metadata": {},
     "output_type": "display_data"
    },
    {
     "data": {
      "text/plain": "Validation: 0it [00:00, ?it/s]",
      "application/vnd.jupyter.widget-view+json": {
       "version_major": 2,
       "version_minor": 0,
       "model_id": "c8186177feab479bab8afd303da45a46"
      }
     },
     "metadata": {},
     "output_type": "display_data"
    },
    {
     "data": {
      "text/plain": "Validation: 0it [00:00, ?it/s]",
      "application/vnd.jupyter.widget-view+json": {
       "version_major": 2,
       "version_minor": 0,
       "model_id": "c36275f8938e43a9a9d656fec0136c50"
      }
     },
     "metadata": {},
     "output_type": "display_data"
    },
    {
     "data": {
      "text/plain": "Validation: 0it [00:00, ?it/s]",
      "application/vnd.jupyter.widget-view+json": {
       "version_major": 2,
       "version_minor": 0,
       "model_id": "9a1b1b8e41e9440a880302c10b9ffe95"
      }
     },
     "metadata": {},
     "output_type": "display_data"
    },
    {
     "data": {
      "text/plain": "Validation: 0it [00:00, ?it/s]",
      "application/vnd.jupyter.widget-view+json": {
       "version_major": 2,
       "version_minor": 0,
       "model_id": "4aa82cd2c022415788260be51173ae9a"
      }
     },
     "metadata": {},
     "output_type": "display_data"
    },
    {
     "data": {
      "text/plain": "Validation: 0it [00:00, ?it/s]",
      "application/vnd.jupyter.widget-view+json": {
       "version_major": 2,
       "version_minor": 0,
       "model_id": "f299a62401e54cf7a3e04788fe4a70da"
      }
     },
     "metadata": {},
     "output_type": "display_data"
    },
    {
     "data": {
      "text/plain": "Validation: 0it [00:00, ?it/s]",
      "application/vnd.jupyter.widget-view+json": {
       "version_major": 2,
       "version_minor": 0,
       "model_id": "b9f292730eea4dcaab2143e580decf07"
      }
     },
     "metadata": {},
     "output_type": "display_data"
    },
    {
     "data": {
      "text/plain": "Validation: 0it [00:00, ?it/s]",
      "application/vnd.jupyter.widget-view+json": {
       "version_major": 2,
       "version_minor": 0,
       "model_id": "cb90d6d5a10c4818a4eb5690bff37fb1"
      }
     },
     "metadata": {},
     "output_type": "display_data"
    }
   ],
   "source": [
    "trainer.fit(\n",
    "    tft, train_dataloaders=train_dataloader, val_dataloaders=val_dataloader,\n",
    ")"
   ],
   "metadata": {
    "collapsed": false
   }
  },
  {
   "cell_type": "code",
   "execution_count": 86,
   "outputs": [
    {
     "name": "stderr",
     "output_type": "stream",
     "text": [
      "C:\\Users\\mains\\AppData\\Roaming\\JetBrains\\DataSpell2022.3\\projects\\workspace\\venv\\lib\\site-packages\\pytorch_lightning\\utilities\\parsing.py:269: UserWarning: Attribute 'loss' is an instance of `nn.Module` and is already saved during checkpointing. It is recommended to ignore them using `self.save_hyperparameters(ignore=['loss'])`.\n",
      "  rank_zero_warn(\n",
      "C:\\Users\\mains\\AppData\\Roaming\\JetBrains\\DataSpell2022.3\\projects\\workspace\\venv\\lib\\site-packages\\pytorch_lightning\\utilities\\parsing.py:269: UserWarning: Attribute 'logging_metrics' is an instance of `nn.Module` and is already saved during checkpointing. It is recommended to ignore them using `self.save_hyperparameters(ignore=['logging_metrics'])`.\n",
      "  rank_zero_warn(\n"
     ]
    },
    {
     "data": {
      "text/plain": "<Figure size 640x480 with 2 Axes>",
      "image/png": "[encoded data removed]"
     },
     "metadata": {},
     "output_type": "display_data"
    }
   ],
   "source": [
    "# https://pytorch-forecasting.readthedocs.io/en/stable/tutorials/stallion.html#Evaluate-performance\n",
    "\n",
    "best_model_path = trainer.checkpoint_callback.best_model_path\n",
    "best_tft = TemporalFusionTransformer.load_from_checkpoint(best_model_path)\n",
    "\n",
    "raw_predictions, x = best_tft.predict(val_dataloader, mode='raw', return_x=True)\n",
    "best_tft.plot_prediction(x, raw_predictions, idx=0, add_loss_to_title=True);"
   ],
   "metadata": {
    "collapsed": false
   }
  },
  {
   "cell_type": "code",
   "execution_count": 84,
   "outputs": [],
   "source": [],
   "metadata": {
    "collapsed": false
   }
  }
 ],
 "metadata": {
  "kernelspec": {
   "display_name": "Python 3",
   "language": "python",
   "name": "python3"
  },
  "language_info": {
   "codemirror_mode": {
    "name": "ipython",
    "version": 2
   },
   "file_extension": ".py",
   "mimetype": "text/x-python",
   "name": "python",
   "nbconvert_exporter": "python",
   "pygments_lexer": "ipython2",
   "version": "2.7.6"
  }
 },
 "nbformat": 4,
 "nbformat_minor": 0
}
